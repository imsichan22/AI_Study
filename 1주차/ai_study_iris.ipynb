{
 "cells": [
  {
   "cell_type": "code",
   "execution_count": 7,
   "id": "d727b0e7-af38-404b-acac-c1ecaf35820f",
   "metadata": {
    "scrolled": true
   },
   "outputs": [
    {
     "name": "stdout",
     "output_type": "stream",
     "text": [
      "   SepalLength  SepalWidth  PetalLength  PetalWidth         Name\n",
      "0          5.1         3.5          1.4         0.2  Iris-setosa\n",
      "1          4.9         3.0          1.4         0.2  Iris-setosa\n",
      "2          4.7         3.2          1.3         0.2  Iris-setosa\n",
      "3          4.6         3.1          1.5         0.2  Iris-setosa\n",
      "4          5.0         3.6          1.4         0.2  Iris-setosa\n",
      "Index(['SepalLength', 'SepalWidth', 'PetalLength', 'PetalWidth', 'Name'], dtype='object')\n",
      "Decision Tree Accuracy :  1.0\n",
      "Random Forest Accuracy :  1.0\n",
      "Support Vector Machine Accuracy :  0.9666666666666667\n",
      "Logistic Regression Accuracy :  1.0\n"
     ]
    }
   ],
   "source": [
    " # 라이브러리 불러오기\n",
    "import pandas as pd\n",
    "\n",
    "# 붓꽃 데이터 CSV 파일 읽기\n",
    "file_path = \"C:/Users/LIM/OneDrive/바탕 화면/study/인공지능개론/iris.csv\"  # iris.csv 저장 경로 입력\n",
    "df = pd.read_csv(file_path)  # 입력한 경로에 있는 붓꽃 데이터 CSV 파일 읽기\n",
    "\n",
    "# 데이터프레임 확인\n",
    "print(df.head())  # 불러온 데이터 상위 5개의 행 출력\n",
    "print(df.columns)  # 불러온 데이터 열 이름 출력\n",
    "\n",
    "# DT, RF, SVM, LR 분류에 필요한 라이브러리 불러오기\n",
    "import numpy as np\n",
    "from sklearn.model_selection import train_test_split\n",
    "from sklearn.preprocessing import StandardScaler\n",
    "from sklearn.tree import DecisionTreeClassifier\n",
    "from sklearn.ensemble import RandomForestClassifier\n",
    "from sklearn.svm import SVC\n",
    "from sklearn.linear_model import LogisticRegression\n",
    "from sklearn.metrics import accuracy_score\n",
    "\n",
    "# 데이터 전처리\n",
    "X = df.iloc[:, :-1]  # 입력 데이터 (꽃받침 길이, 너비, 꽃잎 길이, 너비)\n",
    "y = df.iloc[:, -1]   # 타겟 데이터 (품종)\n",
    "\n",
    "# 학습 및 테스트 데이터 분리 (80% 학습, 20% 테스트)\n",
    "X_train, X_test, y_train, y_test = train_test_split(X, y, test_size=0.2, random_state=42)\n",
    "\n",
    "# SVM, LR의 정규화 (DT, RF는 제외)\n",
    "scaler = StandardScaler()\n",
    "X_train_scaled = scaler.fit_transform(X_train)\n",
    "X_test_scaled = scaler.transform(X_test)\n",
    "\n",
    "# DT(Decision Tree)의 분류 및 정확도 출력\n",
    "model = DecisionTreeClassifier(random_state=42)\n",
    "model.fit(X_train, y_train)\n",
    "y_pred = model.predict(X_test)\n",
    "\n",
    "print(\"Decision Tree Accuracy : \", accuracy_score(y_test, y_pred))  # DT Accuracy 출력\n",
    "\n",
    "# RF(Random Forest)의 분류 및 정확도 출력\n",
    "model = RandomForestClassifier(n_estimators=100, random_state=42)\n",
    "model.fit(X_train, y_train)\n",
    "y_pred = model.predict(X_test)\n",
    "\n",
    "print(\"Random Forest Accuracy : \", accuracy_score(y_test, y_pred))  # RF Accuracy 출력\n",
    "\n",
    "# SVM(Support Vector Machine)의 분류 및 정확도 출력\n",
    "model = SVC(kernel=\"linear\", random_state=42)\n",
    "model.fit(X_train_scaled, y_train)  #정규화된 데이터 사용\n",
    "y_pred = model.predict(X_test_scaled)\n",
    "\n",
    "print(\"Support Vector Machine Accuracy : \", accuracy_score(y_test, y_pred))  # SVM Accuracy 출력\n",
    "\n",
    "# LR(Logistic Regression)의 분류 및 정확도 출력\n",
    "model = LogisticRegression(max_iter=200, random_state=42)\n",
    "model.fit(X_train_scaled, y_train)  #정규화된 데이터 사용\n",
    "y_pred = model.predict(X_test_scaled)\n",
    "\n",
    "print(\"Logistic Regression Accuracy : \", accuracy_score(y_test, y_pred))  # LR Accuracy 출력"
   ]
  }
 ],
 "metadata": {
  "kernelspec": {
   "display_name": "Python 3 (ipykernel)",
   "language": "python",
   "name": "python3"
  },
  "language_info": {
   "codemirror_mode": {
    "name": "ipython",
    "version": 3
   },
   "file_extension": ".py",
   "mimetype": "text/x-python",
   "name": "python",
   "nbconvert_exporter": "python",
   "pygments_lexer": "ipython3",
   "version": "3.12.7"
  }
 },
 "nbformat": 4,
 "nbformat_minor": 5
}
